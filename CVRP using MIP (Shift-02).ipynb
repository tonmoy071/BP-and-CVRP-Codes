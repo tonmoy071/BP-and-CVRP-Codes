{
 "cells": [
  {
   "cell_type": "code",
   "execution_count": 1,
   "id": "ccf2e802",
   "metadata": {},
   "outputs": [],
   "source": [
    "import time\n",
    "start_time = time.time()\n",
    "import itertools\n",
    "import numpy as np\n",
    "import pandas as pd\n",
    "from scipy.spatial import distance_matrix\n",
    "import matplotlib\n",
    "import matplotlib.pylab as plt\n",
    "import seaborn as sns\n",
    "import pulp\n",
    "import warnings\n",
    "warnings.filterwarnings(\"ignore\")"
   ]
  },
  {
   "cell_type": "code",
   "execution_count": 2,
   "id": "e77660b0",
   "metadata": {},
   "outputs": [
    {
     "data": {
      "text/html": [
       "<div>\n",
       "<style scoped>\n",
       "    .dataframe tbody tr th:only-of-type {\n",
       "        vertical-align: middle;\n",
       "    }\n",
       "\n",
       "    .dataframe tbody tr th {\n",
       "        vertical-align: top;\n",
       "    }\n",
       "\n",
       "    .dataframe thead th {\n",
       "        text-align: right;\n",
       "    }\n",
       "</style>\n",
       "<table border=\"1\" class=\"dataframe\">\n",
       "  <thead>\n",
       "    <tr style=\"text-align: right;\">\n",
       "      <th></th>\n",
       "      <th>x</th>\n",
       "      <th>y</th>\n",
       "      <th>demand</th>\n",
       "    </tr>\n",
       "  </thead>\n",
       "  <tbody>\n",
       "    <tr>\n",
       "      <th>0</th>\n",
       "      <td>23.779151</td>\n",
       "      <td>90.359808</td>\n",
       "      <td>0</td>\n",
       "    </tr>\n",
       "    <tr>\n",
       "      <th>1</th>\n",
       "      <td>23.705744</td>\n",
       "      <td>90.391495</td>\n",
       "      <td>42</td>\n",
       "    </tr>\n",
       "    <tr>\n",
       "      <th>2</th>\n",
       "      <td>23.792637</td>\n",
       "      <td>90.267947</td>\n",
       "      <td>30</td>\n",
       "    </tr>\n",
       "    <tr>\n",
       "      <th>3</th>\n",
       "      <td>23.885829</td>\n",
       "      <td>90.401541</td>\n",
       "      <td>31</td>\n",
       "    </tr>\n",
       "    <tr>\n",
       "      <th>4</th>\n",
       "      <td>23.839132</td>\n",
       "      <td>90.256635</td>\n",
       "      <td>39</td>\n",
       "    </tr>\n",
       "    <tr>\n",
       "      <th>5</th>\n",
       "      <td>23.858365</td>\n",
       "      <td>90.261949</td>\n",
       "      <td>34</td>\n",
       "    </tr>\n",
       "    <tr>\n",
       "      <th>6</th>\n",
       "      <td>23.937137</td>\n",
       "      <td>90.289618</td>\n",
       "      <td>29</td>\n",
       "    </tr>\n",
       "    <tr>\n",
       "      <th>7</th>\n",
       "      <td>23.924082</td>\n",
       "      <td>90.261160</td>\n",
       "      <td>34</td>\n",
       "    </tr>\n",
       "    <tr>\n",
       "      <th>8</th>\n",
       "      <td>23.949022</td>\n",
       "      <td>90.274524</td>\n",
       "      <td>34</td>\n",
       "    </tr>\n",
       "    <tr>\n",
       "      <th>9</th>\n",
       "      <td>23.919503</td>\n",
       "      <td>90.211185</td>\n",
       "      <td>32</td>\n",
       "    </tr>\n",
       "    <tr>\n",
       "      <th>10</th>\n",
       "      <td>23.624813</td>\n",
       "      <td>90.498928</td>\n",
       "      <td>36</td>\n",
       "    </tr>\n",
       "    <tr>\n",
       "      <th>11</th>\n",
       "      <td>23.785719</td>\n",
       "      <td>90.568949</td>\n",
       "      <td>42</td>\n",
       "    </tr>\n",
       "    <tr>\n",
       "      <th>12</th>\n",
       "      <td>23.989864</td>\n",
       "      <td>90.380143</td>\n",
       "      <td>36</td>\n",
       "    </tr>\n",
       "    <tr>\n",
       "      <th>13</th>\n",
       "      <td>23.809123</td>\n",
       "      <td>90.148057</td>\n",
       "      <td>33</td>\n",
       "    </tr>\n",
       "    <tr>\n",
       "      <th>14</th>\n",
       "      <td>23.999986</td>\n",
       "      <td>90.274003</td>\n",
       "      <td>40</td>\n",
       "    </tr>\n",
       "    <tr>\n",
       "      <th>15</th>\n",
       "      <td>24.026633</td>\n",
       "      <td>90.422872</td>\n",
       "      <td>40</td>\n",
       "    </tr>\n",
       "    <tr>\n",
       "      <th>16</th>\n",
       "      <td>23.637088</td>\n",
       "      <td>90.598034</td>\n",
       "      <td>40</td>\n",
       "    </tr>\n",
       "    <tr>\n",
       "      <th>17</th>\n",
       "      <td>23.466403</td>\n",
       "      <td>90.287206</td>\n",
       "      <td>47</td>\n",
       "    </tr>\n",
       "    <tr>\n",
       "      <th>18</th>\n",
       "      <td>23.861046</td>\n",
       "      <td>90.000928</td>\n",
       "      <td>32</td>\n",
       "    </tr>\n",
       "  </tbody>\n",
       "</table>\n",
       "</div>"
      ],
      "text/plain": [
       "            x          y  demand\n",
       "0   23.779151  90.359808       0\n",
       "1   23.705744  90.391495      42\n",
       "2   23.792637  90.267947      30\n",
       "3   23.885829  90.401541      31\n",
       "4   23.839132  90.256635      39\n",
       "5   23.858365  90.261949      34\n",
       "6   23.937137  90.289618      29\n",
       "7   23.924082  90.261160      34\n",
       "8   23.949022  90.274524      34\n",
       "9   23.919503  90.211185      32\n",
       "10  23.624813  90.498928      36\n",
       "11  23.785719  90.568949      42\n",
       "12  23.989864  90.380143      36\n",
       "13  23.809123  90.148057      33\n",
       "14  23.999986  90.274003      40\n",
       "15  24.026633  90.422872      40\n",
       "16  23.637088  90.598034      40\n",
       "17  23.466403  90.287206      47\n",
       "18  23.861046  90.000928      32"
      ]
     },
     "execution_count": 2,
     "metadata": {},
     "output_type": "execute_result"
    }
   ],
   "source": [
    "n_customer = 18\n",
    "n_point = n_customer+1\n",
    "vehicle_capacity = 400\n",
    "\n",
    "df = pd.DataFrame({\n",
    "    'x': (23.7791509939155,23.7057442244029,23.7926366806198,23.8858286334404,23.8391319043898,23.8583653902307,23.9371371924135,23.9240822361424,23.9490218369133,23.9195025945173,23.6248125897135,23.7857192154473,23.9898643687822,23.8091231914690,23.9999856622965,24.0266332915962,23.6370879489591,23.4664026717638,23.8610461690743),\n",
    "    'y': (90.3598076895889,90.3914945343488,90.2679466662192,90.4015409619703,90.2566349338854,90.2619487472768,90.2896183198397,90.2611600411098,90.2745243769025,90.2111853698880,90.4989277706365,90.5689488781001,90.3801430690000,90.1480571832337,90.2740031235854,90.4228718359339,90.5980341876852,90.2872062835397,90.0009284340897),\n",
    "    'demand':(0,42,30,31,39,34,29,34,34,32,36,42,36,33,40,40,40,47,32),\n",
    "})\n",
    "\n",
    "df.iloc[0]['x'] = 23.7791487530086\n",
    "df.iloc[0]['y'] = 90.3798071183091\n",
    "df.iloc[0]['demand'] = 0\n",
    "df"
   ]
  },
  {
   "cell_type": "code",
   "execution_count": 3,
   "id": "c5b20645",
   "metadata": {},
   "outputs": [],
   "source": [
    "distances = pd.DataFrame(distance_matrix(df[['x', 'y']*22000].values, df[['x', 'y']*22000].values), index=df.index, columns=df.index).values"
   ]
  },
  {
   "cell_type": "code",
   "execution_count": 4,
   "id": "7c64fc2d",
   "metadata": {},
   "outputs": [],
   "source": [
    "demands = df['demand'].values"
   ]
  },
  {
   "cell_type": "code",
   "execution_count": 5,
   "id": "e2cd4b77",
   "metadata": {},
   "outputs": [],
   "source": [
    "problem = pulp.LpProblem('cvrp_mip', pulp.LpMinimize)"
   ]
  },
  {
   "cell_type": "code",
   "execution_count": 6,
   "id": "c5f053aa",
   "metadata": {},
   "outputs": [],
   "source": [
    "x = pulp.LpVariable.dicts('x', ((i, j) for i in range(n_point) for j in range(n_point)), lowBound=0, upBound=1, cat='Binary')\n",
    "n_vehicle = pulp.LpVariable('n_vehicle', lowBound=2, upBound=4, cat='Integer')"
   ]
  },
  {
   "cell_type": "code",
   "execution_count": 7,
   "id": "f4f63cf0",
   "metadata": {},
   "outputs": [],
   "source": [
    "problem += pulp.lpSum([distances[i][j] * x[i, j] for i in range(n_point) for j in range(n_point)])"
   ]
  },
  {
   "cell_type": "code",
   "execution_count": 8,
   "id": "05a8a94a",
   "metadata": {},
   "outputs": [],
   "source": [
    "for i in range(n_point):\n",
    "    problem += x[i, i] == 0\n",
    "    \n",
    "for i in range(1, n_point):\n",
    "    problem += pulp.lpSum(x[j, i] for j in range(n_point)) == 1\n",
    "    problem += pulp.lpSum(x[i, j] for j in range(n_point)) == 1\n",
    "        \n",
    "problem += pulp.lpSum(x[i, 0] for i in range(n_point)) == n_vehicle\n",
    "problem += pulp.lpSum(x[0, i] for i in range(n_point)) == n_vehicle"
   ]
  },
  {
   "cell_type": "code",
   "execution_count": 9,
   "id": "5d7b4b6b",
   "metadata": {},
   "outputs": [],
   "source": [
    "subtours = []\n",
    "for length in range(2, n_point):\n",
    "     subtours += itertools.combinations(range(1, n_point), length)\n",
    "\n",
    "for st in subtours:\n",
    "    demand = np.sum([demands[s] for s in st])\n",
    "    arcs = [x[i, j] for i, j in itertools.permutations(st, 2)]\n",
    "    problem += pulp.lpSum(arcs) <= np.max([0, len(st) - np.ceil(demand / vehicle_capacity)])"
   ]
  },
  {
   "cell_type": "code",
   "execution_count": null,
   "id": "7fcec75e",
   "metadata": {},
   "outputs": [],
   "source": [
    "status = problem.solve()"
   ]
  },
  {
   "cell_type": "code",
   "execution_count": null,
   "id": "35a2c31c",
   "metadata": {},
   "outputs": [],
   "source": [
    "print(\"Status value:\", status)\n",
    "print(\"Status:\", pulp.LpStatus[status])\n",
    "print(\"Objective value:\", pulp.value(problem.objective))\n",
    "print(\"Number of vehicles used:\", pulp.value(n_vehicle))"
   ]
  },
  {
   "cell_type": "code",
   "execution_count": null,
   "id": "b09c6d7d",
   "metadata": {
    "scrolled": true
   },
   "outputs": [],
   "source": [
    "plt.figure(figsize=(30, 30))\n",
    "for i, row in df.iterrows():\n",
    "    if i == 0:\n",
    "        plt.scatter(row['x'], row['y'], c='b')\n",
    "        plt.text(row['x'] + 0.005, row['y'] + 0.005, 'Factory')\n",
    "    else:\n",
    "        plt.scatter(row['x'], row['y'], c='r')\n",
    "        plt.text(row['x'] + 0.005, row['y'] + 0.005, f'{i}')\n",
    "plt.xlim([23.45, 24.05])\n",
    "plt.ylim([89.9, 90.65])\n",
    "cmap = matplotlib.cm.get_cmap('Dark2')\n",
    "routes = [(i, j) for i in range(n_point) for j in range(n_point) if pulp.value(x[i, j]) == 1]\n",
    "for v in range(int(pulp.value(n_vehicle))):\n",
    "    vehicle_route = [routes[v]]\n",
    "    while vehicle_route[-1][1] != 0:\n",
    "        for p in routes:\n",
    "            if p[0] == vehicle_route[-1][1]:\n",
    "                vehicle_route.append(p)\n",
    "                break\n",
    "    arrowprops = dict(arrowstyle='->', connectionstyle='arc3', edgecolor=cmap(v))\n",
    "    for i, j in vehicle_route:\n",
    "        plt.annotate('', xy=[df.iloc[j]['x'], df.iloc[j]['y']], xytext=[df.iloc[i]['x'], df.iloc[i]['y']], arrowprops=arrowprops)\n",
    "                \n",
    "plt.show()"
   ]
  },
  {
   "cell_type": "code",
   "execution_count": null,
   "id": "60835539-56bb-4ea5-a5af-91080fa14575",
   "metadata": {},
   "outputs": [],
   "source": [
    "end_time = time.time()\n",
    "cpu_time = end_time - start_time"
   ]
  },
  {
   "cell_type": "code",
   "execution_count": null,
   "id": "3e1b07f1-46c2-4c06-b163-c9bf55caf526",
   "metadata": {},
   "outputs": [],
   "source": [
    "print(\"CPU time:\", cpu_time, \"seconds\")"
   ]
  }
 ],
 "metadata": {
  "kernelspec": {
   "display_name": "Python 3 (ipykernel)",
   "language": "python",
   "name": "python3"
  },
  "language_info": {
   "codemirror_mode": {
    "name": "ipython",
    "version": 3
   },
   "file_extension": ".py",
   "mimetype": "text/x-python",
   "name": "python",
   "nbconvert_exporter": "python",
   "pygments_lexer": "ipython3",
   "version": "3.12.4"
  }
 },
 "nbformat": 4,
 "nbformat_minor": 5
}
