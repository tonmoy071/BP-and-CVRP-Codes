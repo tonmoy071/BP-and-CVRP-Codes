{
 "cells": [
  {
   "cell_type": "code",
   "execution_count": 1,
   "id": "8cea2ba3-d628-452a-a312-e5557fa543d8",
   "metadata": {},
   "outputs": [],
   "source": [
    "import time\n",
    "from prettytable import PrettyTable\n",
    "start_time = time.time()"
   ]
  },
  {
   "cell_type": "code",
   "execution_count": 3,
   "id": "8a2fa053",
   "metadata": {},
   "outputs": [],
   "source": [
    "def firstFit(weight, n, c):\n",
    "    res = 1\n",
    "    bin_rem = [0]*n\n",
    "    for i in range(n):\n",
    "        j = 0\n",
    "        while( j < res):\n",
    "            if (bin_rem[j] >= weight[i]):\n",
    "                bin_rem[j] = bin_rem[j] - weight[i]\n",
    "                break\n",
    "            j+=1\n",
    "        if (j == res):\n",
    "            bin_rem[res] = c - weight[i]\n",
    "            res= res+1\n",
    "    return res"
   ]
  },
  {
   "cell_type": "code",
   "execution_count": 5,
   "id": "4c47f050",
   "metadata": {},
   "outputs": [],
   "source": [
    "w1 = [8,5,11,2,6,7,6,1,4]\n",
    "w2 = [4,6,7,9,5,8]\n",
    "w3 = [4,10,3,5,3]\n",
    "c = 15\n",
    "n1 = len(w1)\n",
    "n2 = len(w2)\n",
    "n3 = len(w3)"
   ]
  },
  {
   "cell_type": "code",
   "execution_count": 7,
   "id": "a8c31945",
   "metadata": {},
   "outputs": [],
   "source": [
    "N1= firstFit(w1, n1, c)\n",
    "N2= firstFit(w2, n2, c)\n",
    "N3= firstFit(w3, n3, c)"
   ]
  },
  {
   "cell_type": "code",
   "execution_count": 9,
   "id": "b23a096f",
   "metadata": {},
   "outputs": [],
   "source": [
    "def bestfit(weight, n, c):\n",
    "    res = 1;\n",
    "    bin_rem = [0]*n;\n",
    "    for i in range(n):\n",
    "        j = 0;\n",
    "        min = c + 1;\n",
    "        bi = 0;\n",
    "        for j in range(res):\n",
    "            if (bin_rem[j] >= weight[i] and bin_rem[j] -\n",
    "                                       weight[i] < min):\n",
    "                bi = j;\n",
    "                min = bin_rem[j] - weight[i];\n",
    "        if (min == c + 1):\n",
    "            bin_rem[res] = c - weight[i];\n",
    "            res += 1;\n",
    "        else:\n",
    "            bin_rem[bi] -= weight[i];\n",
    "    return res;"
   ]
  },
  {
   "cell_type": "code",
   "execution_count": 11,
   "id": "f4507658",
   "metadata": {},
   "outputs": [],
   "source": [
    "N4= bestfit(w1, n1, c)\n",
    "N5= bestfit(w2, n2, c)\n",
    "N6= bestfit(w3, n3, c)"
   ]
  },
  {
   "cell_type": "code",
   "execution_count": 13,
   "id": "f46ae2bf",
   "metadata": {},
   "outputs": [],
   "source": [
    "def worstFit( weight, n, c):\n",
    "    res = 1\n",
    "    bin_rem = [0 for i in range(n)]\n",
    "    for i in range(n):\n",
    "        mx,wi = -1,0\n",
    "        for j in range(res):\n",
    "            if (bin_rem[j] >= weight[i] and bin_rem[j] - weight[i] > mx):\n",
    "                wi = j\n",
    "                mx = bin_rem[j] - weight[i]\n",
    "        if (mx == -1):\n",
    "            bin_rem[res] = c - weight[i]\n",
    "            res += 1\n",
    "        else:\n",
    "            bin_rem[wi] -= weight[i]\n",
    "    return res"
   ]
  },
  {
   "cell_type": "code",
   "execution_count": 15,
   "id": "269b52fa",
   "metadata": {},
   "outputs": [],
   "source": [
    "N7= worstFit(w1, n1, c)\n",
    "N8= worstFit(w2, n2, c)\n",
    "N9= worstFit(w3, n3, c)"
   ]
  },
  {
   "cell_type": "code",
   "execution_count": 17,
   "id": "ac492f78",
   "metadata": {},
   "outputs": [
    {
     "name": "stdout",
     "output_type": "stream",
     "text": [
      "Solution\n",
      "+-----+---------+---------------------+----------------------+----------------------+----------------------+\n",
      "| SL. |   Time  | Traditional Packing | Bin required in FFBP | Bin required in BFBP | Bin required in WFBP |\n",
      "+-----+---------+---------------------+----------------------+----------------------+----------------------+\n",
      "|  1  | Shift-1 |          9          |          5           |          5           |          5           |\n",
      "|  2  | Shift-2 |          6          |          4           |          4           |          5           |\n",
      "|  3  | Shift-3 |          5          |          3           |          3           |          3           |\n",
      "+-----+---------+---------------------+----------------------+----------------------+----------------------+\n"
     ]
    }
   ],
   "source": [
    "print(\"Solution\")\n",
    "myTable = PrettyTable([\"SL.\",\"Time\", \"Traditional Packing\", \"Bin required in FFBP\",\"Bin required in BFBP\",\"Bin required in WFBP\"])\n",
    "myTable.add_row([\"1\", \"Shift-1\", n1, N1, N4,N7])\n",
    "myTable.add_row([\"2\", \"Shift-2\", n2, N2, N5,N8])\n",
    "myTable.add_row([\"3\", \"Shift-3\", n3, N3, N6,N9])\n",
    "print(myTable)"
   ]
  },
  {
   "cell_type": "code",
   "execution_count": 19,
   "id": "309ff1cf",
   "metadata": {},
   "outputs": [],
   "source": [
    "end_time = time.time()\n",
    "cpu_time = end_time - start_time"
   ]
  },
  {
   "cell_type": "code",
   "execution_count": 21,
   "id": "11c79297-b775-4f83-9b60-30d835446f84",
   "metadata": {},
   "outputs": [
    {
     "name": "stdout",
     "output_type": "stream",
     "text": [
      "CPU time: 5.007357597351074 seconds\n"
     ]
    }
   ],
   "source": [
    "print(\"CPU time:\", cpu_time, \"seconds\")"
   ]
  }
 ],
 "metadata": {
  "kernelspec": {
   "display_name": "Python 3 (ipykernel)",
   "language": "python",
   "name": "python3"
  },
  "language_info": {
   "codemirror_mode": {
    "name": "ipython",
    "version": 3
   },
   "file_extension": ".py",
   "mimetype": "text/x-python",
   "name": "python",
   "nbconvert_exporter": "python",
   "pygments_lexer": "ipython3",
   "version": "3.12.4"
  }
 },
 "nbformat": 4,
 "nbformat_minor": 5
}
