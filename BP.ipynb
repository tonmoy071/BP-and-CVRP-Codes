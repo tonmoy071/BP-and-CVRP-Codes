{
 "cells": [
  {
   "cell_type": "code",
   "execution_count": 1,
   "id": "8a2fa053",
   "metadata": {},
   "outputs": [],
   "source": [
    "def firstFit(weight, n, c):\n",
    "    res = 1\n",
    "    bin_rem = [0]*n\n",
    "    for i in range(n):\n",
    "        j = 0\n",
    "        while( j < res):\n",
    "            if (bin_rem[j] >= weight[i]):\n",
    "                bin_rem[j] = bin_rem[j] - weight[i]\n",
    "                break\n",
    "            j+=1\n",
    "        if (j == res):\n",
    "            bin_rem[res] = c - weight[i]\n",
    "            res= res+1\n",
    "    return res"
   ]
  },
  {
   "cell_type": "code",
   "execution_count": 2,
   "id": "4c47f050",
   "metadata": {},
   "outputs": [],
   "source": [
    "w1 = [6,9,11,15,4,5,13,11,10,15,16]\n",
    "w2 = [10,12,14,11,8,13,5,6,9]\n",
    "w3 = [16,6,8,7,5,10,12,2]\n",
    "c = 20\n",
    "n1 = len(w1)\n",
    "n2 = len(w2)\n",
    "n3 = len(w3)"
   ]
  },
  {
   "cell_type": "code",
   "execution_count": 3,
   "id": "a8c31945",
   "metadata": {},
   "outputs": [],
   "source": [
    "N1= firstFit(w1, n1, c)\n",
    "N2= firstFit(w2, n2, c)\n",
    "N3= firstFit(w3, n3, c)"
   ]
  },
  {
   "cell_type": "code",
   "execution_count": 4,
   "id": "f065b2f6",
   "metadata": {},
   "outputs": [],
   "source": [
    "def nextfit(weight, c):\n",
    "    res = 1\n",
    "    rem = c\n",
    "    for i in range(len(weight)):\n",
    "        if rem >= weight[i]:\n",
    "            rem = rem - weight[i]\n",
    "        else:\n",
    "            res += 1\n",
    "            rem = c - weight[i]\n",
    "    return res"
   ]
  },
  {
   "cell_type": "code",
   "execution_count": 5,
   "id": "27d0f308",
   "metadata": {},
   "outputs": [],
   "source": [
    "N4= nextfit(w1, c)\n",
    "N5= nextfit(w2, c)\n",
    "N6= nextfit(w3, c)"
   ]
  },
  {
   "cell_type": "code",
   "execution_count": 6,
   "id": "b23a096f",
   "metadata": {},
   "outputs": [],
   "source": [
    "def bestfit(weight, n, c):\n",
    "    res = 1;\n",
    "    bin_rem = [0]*n;\n",
    "    for i in range(n):\n",
    "        j = 0;\n",
    "        min = c + 1;\n",
    "        bi = 0;\n",
    "        for j in range(res):\n",
    "            if (bin_rem[j] >= weight[i] and bin_rem[j] -\n",
    "                                       weight[i] < min):\n",
    "                bi = j;\n",
    "                min = bin_rem[j] - weight[i];\n",
    "        if (min == c + 1):\n",
    "            bin_rem[res] = c - weight[i];\n",
    "            res += 1;\n",
    "        else:\n",
    "            bin_rem[bi] -= weight[i];\n",
    "    return res;"
   ]
  },
  {
   "cell_type": "code",
   "execution_count": 7,
   "id": "f4507658",
   "metadata": {},
   "outputs": [],
   "source": [
    "N7= bestfit(w1, n1, c)\n",
    "N8= bestfit(w2, n2, c)\n",
    "N9= bestfit(w3, n3, c)"
   ]
  },
  {
   "cell_type": "code",
   "execution_count": 8,
   "id": "f46ae2bf",
   "metadata": {},
   "outputs": [],
   "source": [
    "def worstFit( weight, n, c):\n",
    "    res = 1\n",
    "    bin_rem = [0 for i in range(n)]\n",
    "    for i in range(n):\n",
    "        mx,wi = -1,0\n",
    "        for j in range(res):\n",
    "            if (bin_rem[j] >= weight[i] and bin_rem[j] - weight[i] > mx):\n",
    "                wi = j\n",
    "                mx = bin_rem[j] - weight[i]\n",
    "        if (mx == -1):\n",
    "            bin_rem[res] = c - weight[i]\n",
    "            res += 1\n",
    "        else:\n",
    "            bin_rem[wi] -= weight[i]\n",
    "    return res"
   ]
  },
  {
   "cell_type": "code",
   "execution_count": 9,
   "id": "269b52fa",
   "metadata": {},
   "outputs": [],
   "source": [
    "N10= worstFit(w1, n1, c)\n",
    "N11= worstFit(w2, n2, c)\n",
    "N12= worstFit(w3, n3, c)"
   ]
  },
  {
   "cell_type": "code",
   "execution_count": 10,
   "id": "ac492f78",
   "metadata": {},
   "outputs": [
    {
     "name": "stdout",
     "output_type": "stream",
     "text": [
      "Solution\n",
      "+-----+--------------+----------------------+----------------------+----------------------+----------------------+\n",
      "| SL. |     Time     | Bin required in FFBP | Bin required in NFBP | Bin required in BFBP | Bin required in WFBP |\n",
      "+-----+--------------+----------------------+----------------------+----------------------+----------------------+\n",
      "|  1  | Morning:7-8  |          9           |          8           |          9           |          9           |\n",
      "|  2  | Morning:8-9  |          6           |          6           |          6           |          7           |\n",
      "|  3  | Morning:9-10 |          5           |          5           |          5           |          6           |\n",
      "+-----+--------------+----------------------+----------------------+----------------------+----------------------+\n"
     ]
    }
   ],
   "source": [
    "print(\"Solution\")\n",
    "from prettytable import PrettyTable\n",
    "myTable = PrettyTable([\"SL.\",\"Time\", \"Bin required in FFBP\",\"Bin required in NFBP\",\"Bin required in BFBP\",\"Bin required in WFBP\"])\n",
    "myTable.add_row([\"1\", \"Morning:7-8\", N1, N4,N7,N10])\n",
    "myTable.add_row([\"2\", \"Morning:8-9\", N2, N5,N8,N11])\n",
    "myTable.add_row([\"3\", \"Morning:9-10\", N3, N6,N9,N12])\n",
    "print(myTable)"
   ]
  },
  {
   "cell_type": "code",
   "execution_count": null,
   "id": "309ff1cf",
   "metadata": {},
   "outputs": [],
   "source": []
  }
 ],
 "metadata": {
  "kernelspec": {
   "display_name": "Python 3 (ipykernel)",
   "language": "python",
   "name": "python3"
  },
  "language_info": {
   "codemirror_mode": {
    "name": "ipython",
    "version": 3
   },
   "file_extension": ".py",
   "mimetype": "text/x-python",
   "name": "python",
   "nbconvert_exporter": "python",
   "pygments_lexer": "ipython3",
   "version": "3.9.12"
  }
 },
 "nbformat": 4,
 "nbformat_minor": 5
}
